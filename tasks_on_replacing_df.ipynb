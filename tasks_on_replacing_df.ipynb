{
  "nbformat": 4,
  "nbformat_minor": 0,
  "metadata": {
    "colab": {
      "name": "tasks on replacing df",
      "private_outputs": true,
      "provenance": [],
      "collapsed_sections": []
    },
    "kernelspec": {
      "name": "python3",
      "display_name": "Python 3"
    }
  },
  "cells": [
    {
      "cell_type": "code",
      "metadata": {
        "id": "2s4-i4z8dkdG"
      },
      "source": [
        "import numpy as np\r\n",
        "import pandas as pd"
      ],
      "execution_count": null,
      "outputs": []
    },
    {
      "cell_type": "code",
      "metadata": {
        "id": "MNyquvx853Bs"
      },
      "source": [
        "#Eg 1 creating data set\r\n",
        "data = pd.Series([\"manu\",\"sonu\",\"suma\"])\r\n",
        "index = [\"name_1\",\"name_2\",\"name_3\"]\r\n",
        "data.index = index\r\n",
        "print(data)"
      ],
      "execution_count": null,
      "outputs": []
    },
    {
      "cell_type": "code",
      "metadata": {
        "id": "shiFx9C353Ql"
      },
      "source": [
        "#Replacing object from the given data set to_replace()\r\n",
        "result = data.replace(to_replace = [\"manu\",\"sonu\"], value = [\"kavita\",\"shruti\"])\r\n",
        "result"
      ],
      "execution_count": null,
      "outputs": []
    },
    {
      "cell_type": "code",
      "metadata": {
        "id": "iNrbDtfi53Wp"
      },
      "source": [
        "df = pd.DataFrame({'A': [0, 1, 2, 3, 4],\r\n",
        "                   'B': [5, 6, 7, 8, 9],\r\n",
        "                   'C': ['a', 'b', 'c', 'd', 'e']})\r\n",
        "df"
      ],
      "execution_count": null,
      "outputs": []
    },
    {
      "cell_type": "code",
      "metadata": {
        "id": "h-khngxc53fD"
      },
      "source": [
        "df.replace([0, 1, 2], 22)"
      ],
      "execution_count": null,
      "outputs": []
    },
    {
      "cell_type": "code",
      "metadata": {
        "id": "0YcFc1Jt6yW4"
      },
      "source": [
        "#TASK 2 CONVERTING CATEROGICAL DATA TO NUMERICAL DATA"
      ],
      "execution_count": null,
      "outputs": []
    },
    {
      "cell_type": "code",
      "metadata": {
        "id": "lXq_RnZu6ygb"
      },
      "source": [
        "from sklearn.preprocessing import LabelEncoder #Importing label encoder\r\n",
        "label_encoder = LabelEncoder()\r\n",
        "x = ['Ant', 'cat', 'rat', 'rabbit','dog','elephant']\r\n",
        "y = label_encoder.fit_transform(x) #Fit label encoder and return encoded labels.\r\n",
        "print(y)"
      ],
      "execution_count": null,
      "outputs": []
    },
    {
      "cell_type": "code",
      "metadata": {
        "id": "au1-uNi16yjN"
      },
      "source": [
        "from sklearn.preprocessing import LabelEncoder #Importing label encoder\r\n",
        "label_encoder = LabelEncoder()\r\n",
        "x = ['Ant', 'cat', 'rat', 'rabbit','dog','elephant']\r\n",
        "y = label_encoder.get_params(deep = True) #Get parameters for this estimator.\r\n",
        "print(y)"
      ],
      "execution_count": null,
      "outputs": []
    },
    {
      "cell_type": "markdown",
      "metadata": {
        "id": "lOFtNWev7Rzm"
      },
      "source": [
        "Major difference between get_dummies and label encoder\r\n",
        "\r\n",
        "1.pandas.get_dummies is in the form of binary 0's and 1's LabelEncoder is incremental encoding, such as 0,1,2,3,4,...\r\n",
        "\r\n",
        "2.The get dummies \"condenses\" the information by changing things to integers, and the label encoder \"expands\" the dimensions allowing (possibly) more convenient access."
      ]
    },
    {
      "cell_type": "code",
      "metadata": {
        "id": "nspBnjbn6ylx"
      },
      "source": [
        ""
      ],
      "execution_count": null,
      "outputs": []
    },
    {
      "cell_type": "code",
      "metadata": {
        "id": "eCI1Xud86yom"
      },
      "source": [
        ""
      ],
      "execution_count": null,
      "outputs": []
    }
  ]
}