{
  "nbformat": 4,
  "nbformat_minor": 0,
  "metadata": {
    "colab": {
      "name": "Untitled3.ipynb",
      "provenance": [],
      "private_outputs": true,
      "collapsed_sections": []
    },
    "kernelspec": {
      "name": "python3",
      "display_name": "Python 3"
    }
  },
  "cells": [
    {
      "cell_type": "markdown",
      "metadata": {
        "id": "xN29ZHq5Zf7B"
      },
      "source": [
        "Task1 (Inbuilt functions in python)"
      ]
    },
    {
      "cell_type": "code",
      "metadata": {
        "id": "BCvtD4fJqkTJ"
      },
      "source": [
        "test = []\n",
        "print(test,'is',bool(test))"
      ],
      "execution_count": null,
      "outputs": []
    },
    {
      "cell_type": "code",
      "metadata": {
        "id": "5fHm4r2esspd"
      },
      "source": [
        "test =[0]\n",
        "print(test, 'is' ,bool(test) )\n"
      ],
      "execution_count": null,
      "outputs": []
    },
    {
      "cell_type": "markdown",
      "metadata": {
        "id": "25OcflzYWrTx"
      },
      "source": [
        ""
      ]
    },
    {
      "cell_type": "code",
      "metadata": {
        "id": "zm7azKuZWruv"
      },
      "source": [
        "a=  \"python\"\n",
        "print(a.upper())"
      ],
      "execution_count": null,
      "outputs": []
    },
    {
      "cell_type": "code",
      "metadata": {
        "id": "ykXtqnrbY2im"
      },
      "source": [
        "print(a.lower())"
      ],
      "execution_count": null,
      "outputs": []
    },
    {
      "cell_type": "markdown",
      "metadata": {
        "id": "c6sRXNKjHVsX"
      },
      "source": [
        "Task2(substring is present in string)\n"
      ]
    },
    {
      "cell_type": "markdown",
      "metadata": {
        "id": "iLxc8CcQTBXE"
      },
      "source": [
        ""
      ]
    },
    {
      "cell_type": "markdown",
      "metadata": {
        "id": "eKIphMFYTCdO"
      },
      "source": [
        ""
      ]
    },
    {
      "cell_type": "code",
      "metadata": {
        "id": "DKu7yN4DLIJx"
      },
      "source": [
        "a= \"welcome to python\"\n",
        "print (a.startswith(\"w\"))"
      ],
      "execution_count": null,
      "outputs": []
    },
    {
      "cell_type": "code",
      "metadata": {
        "id": "HSWhYYKwUXy_"
      },
      "source": [
        "print(a.endswith(\"python\"))"
      ],
      "execution_count": null,
      "outputs": []
    },
    {
      "cell_type": "code",
      "metadata": {
        "id": "NYcSVygDWnLs"
      },
      "source": [
        "print(a.startswith(\"to\"))"
      ],
      "execution_count": null,
      "outputs": []
    },
    {
      "cell_type": "markdown",
      "metadata": {
        "id": "Q0jE30VOZS6v"
      },
      "source": [
        ""
      ]
    }
  ]
}