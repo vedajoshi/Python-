{
  "nbformat": 4,
  "nbformat_minor": 0,
  "metadata": {
    "colab": {
      "name": "asnmt on pandas",
      "private_outputs": true,
      "provenance": []
    },
    "kernelspec": {
      "name": "python3",
      "display_name": "Python 3"
    }
  },
  "cells": [
    {
      "cell_type": "code",
      "metadata": {
        "id": "eQ9Nb34yWR6V"
      },
      "source": [
        "#instaling panda\r\n",
        "!pip install pandas"
      ],
      "execution_count": null,
      "outputs": []
    },
    {
      "cell_type": "code",
      "metadata": {
        "id": "agJYuZdgWR3X"
      },
      "source": [
        "import pandas as pd\r\n",
        "import numpy as np"
      ],
      "execution_count": null,
      "outputs": []
    },
    {
      "cell_type": "code",
      "metadata": {
        "id": "fRgXIOKJVaZH"
      },
      "source": [
        "#1)creating the dict with 10 keys and values and accessing the elements\r\n",
        "dict2={'1':'one','2':'two','3':'three','4':'four','5':'five','6':'six','7':'seven','8':'eight','9':'nine','10':'ten'}\r\n",
        "a=pd.Series(dict2)\r\n",
        "a"
      ],
      "execution_count": null,
      "outputs": []
    },
    {
      "cell_type": "code",
      "metadata": {
        "id": "5v9VlCMlW8mw"
      },
      "source": [
        "#accessing the third element\r\n",
        "a[2]"
      ],
      "execution_count": null,
      "outputs": []
    },
    {
      "cell_type": "code",
      "metadata": {
        "id": "aze-XPyeW8pj"
      },
      "source": [
        "#accessing the fifth element\r\n",
        "a[4]"
      ],
      "execution_count": null,
      "outputs": []
    },
    {
      "cell_type": "code",
      "metadata": {
        "id": "F-Mdr_yfXp7S"
      },
      "source": [
        "#accessing last six value using reverse indexing\r\n",
        "a[5::-1]"
      ],
      "execution_count": null,
      "outputs": []
    }
  ]
}