{
  "nbformat": 4,
  "nbformat_minor": 0,
  "metadata": {
    "colab": {
      "name": "assignment on class",
      "private_outputs": true,
      "provenance": [],
      "collapsed_sections": []
    },
    "kernelspec": {
      "name": "python3",
      "display_name": "Python 3"
    }
  },
  "cells": [
    {
      "cell_type": "code",
      "metadata": {
        "id": "tRVz89RsQ43w"
      },
      "source": [
        "def removeDuplicate(str):\r\n",
        "   s = set(str)          \r\n",
        "   s = \" \".join(s)      \r\n",
        "   print(\"withoutorder= \",s)\r\n",
        "   a=\" \"\r\n",
        "   for i in str:\r\n",
        "        if(i in a):    \r\n",
        "            pass\r\n",
        "        else:\r\n",
        "            a = a+i\r\n",
        "            print(\"with order:\",a)\r\n",
        "str = \"hello\"\r\n",
        "removeDuplicate(str)"
      ],
      "execution_count": null,
      "outputs": []
    },
    {
      "cell_type": "code",
      "metadata": {
        "id": "2pBR4gj9Q5I8"
      },
      "source": [
        "#2.write a class & method under it to perfom square root,cuberoot,nth root\r\n",
        "import math\r\n",
        "class squareroot:\r\n",
        " def __init__(self, data):\r\n",
        "    self.data=data\r\n",
        "def squareroot(self):\r\n",
        "    return squareroot(self.data)\r\n",
        "number = int(input('Enter First number : '))\r\n",
        "squareroot =math.sqrt(number)\r\n",
        "print(squareroot)\r\n",
        "class cuberoot:\r\n",
        " def __init__(self, data):\r\n",
        "    self.data=data\r\n",
        "def cuberoot(self):\r\n",
        "    return cuberoot(self.data)\r\n",
        "number2 = int(input('Enter number : '))\r\n",
        "number3 = int(input('Enter number : '))\r\n",
        "cuberoot =(number2**(1/number3))\r\n",
        "print(cuberoot)\r\n",
        "class nthroot:\r\n",
        " def __init__(self, data):\r\n",
        "    self.data=data\r\n",
        "def nthroot(self):\r\n",
        "    return nthroot(self.data)\r\n",
        "number2 = int(input('Enter number : '))\r\n",
        "number3 = int(input('Enter number : '))\r\n",
        "nthroot =number2**(1/number3)\r\n",
        "print(nthroot)"
      ],
      "execution_count": null,
      "outputs": []
    },
    {
      "cell_type": "code",
      "metadata": {
        "id": "23bgg1l4Q5RW"
      },
      "source": [
        "#3.Write a function which takes a list as input and returns list in reverse order\r\n",
        "list =[20,40,60,80,100]\r\n",
        "print(\"given list:\", list) \r\n",
        "list.reverse() \r\n",
        "print(\"reverse list:\", list)"
      ],
      "execution_count": null,
      "outputs": []
    },
    {
      "cell_type": "code",
      "metadata": {
        "id": "esGnp0pmQ5Wu"
      },
      "source": [
        "#egs for reversing the gien list\r\n",
        "list =[1,2,3,4,5,6]\r\n",
        "print(\"given list:\" ) \r\n",
        "list.reverse() \r\n",
        "print(\"reverse list:\", list)"
      ],
      "execution_count": null,
      "outputs": []
    },
    {
      "cell_type": "code",
      "metadata": {
        "id": "udTQ4SSaQ5Zp"
      },
      "source": [
        "#4.Write a class which takes three inputs and returns the smallest and the largest number.\r\n",
        "class smallest_largest:\r\n",
        " def __init__(self, data):\r\n",
        "    self.data=data\r\n",
        "def smallest(self):\r\n",
        "    return smallest(self.data)\r\n",
        "def largest(self):\r\n",
        "    return largest(self.data)\r\n",
        "number1 = int(input('Enter First number : '))\r\n",
        "number2 = int(input('Enter Second number : '))\r\n",
        "number3 = int(input('Enter Third number : '))\r\n",
        "def largest(num1, num2, num3):\r\n",
        "    if (num1 > num2) and (num1 > num3):\r\n",
        "        largest_num = num1\r\n",
        "    elif (num2 > num1) and (num2 > num3):\r\n",
        "        largest_num = num2\r\n",
        "    else:\r\n",
        "        largest_num = num3\r\n",
        "    print(\"The largest of the 3 numbers is : \", largest_num)\r\n",
        "def smallest(num1, num2, num3):\r\n",
        "    if (num1 < num2) and (num1 < num3):\r\n",
        "        smallest_num = num1\r\n",
        "    elif (num2 < num1) and (num2 < num3):\r\n",
        "        smallest_num = num2\r\n",
        "    else:\r\n",
        "        smallest_num = num3\r\n",
        "    print(\"The smallest of the 3 numbers is : \", smallest_num)\r\n",
        "smallest(number1, number2, number3)\r\n",
        "largest(number1, number2, number3)"
      ],
      "execution_count": null,
      "outputs": []
    },
    {
      "cell_type": "code",
      "metadata": {
        "id": "JsySF6sLQ5yZ"
      },
      "source": [
        ""
      ],
      "execution_count": null,
      "outputs": []
    }
  ]
}