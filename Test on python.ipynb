{
 "cells": [
  {
   "cell_type": "code",
   "execution_count": null,
   "metadata": {},
   "outputs": [],
   "source": [
    "#write a python function to accept user inputs, store it in a list and compute the highest number of it.\n",
    "user can enter as many number as she/he wants. #take care of the following things \n",
    "1)input must be entered by user \n",
    "2)exception handeling \n",
    "3)null values \n",
    "4)errors \n",
    "5)datatypes\n",
    "output of the function must be a number\n",
    "it should accept correct values and for incorrect values , an error message must be displaced to the user\n",
    "\n"
   ]
  },
  {
   "cell_type": "code",
   "execution_count": 1,
   "metadata": {},
   "outputs": [
    {
     "name": "stdout",
     "output_type": "stream",
     "text": [
      "Enter a value: 20\n",
      "Enter a value: 3.5\n",
      "Enter a value: \n",
      "Enter a value: 'data'\n",
      "Enter a value: 44\n",
      "Enter a value: 60\n",
      "Enter a value: 80\n",
      "Enter a value: 100\n",
      "Enter a value: 22\n",
      "Enter a value: 55\n",
      "Enter a value: 77\n"
     ]
    }
   ],
   "source": [
    "#write a python function to accept user inputs,\n",
    "a = input('Enter a value: ')\n",
    "b = input('Enter a value: ')\n",
    "c = input('Enter a value: ')\n",
    "d = input('Enter a value: ')\n",
    "e = input('Enter a value: ')\n",
    "f = input('Enter a value: ')\n",
    "g = input('Enter a value: ')\n",
    "h = input('Enter a value: ')\n",
    "i = input('Enter a value: ')\n",
    "j = input('Enter a value: ')\n",
    "k = input('Enter a value: ')"
   ]
  },
  {
   "cell_type": "code",
   "execution_count": 22,
   "metadata": {},
   "outputs": [
    {
     "data": {
      "text/plain": [
       "'99'"
      ]
     },
     "execution_count": 22,
     "metadata": {},
     "output_type": "execute_result"
    }
   ],
   "source": [
    "#store it in a list and compute the highest number of it.\n",
    "list1=[a,b,c,d,e,f,g,h,i,j,k]\n",
    "max(list1)"
   ]
  },
  {
   "cell_type": "code",
   "execution_count": 8,
   "metadata": {},
   "outputs": [
    {
     "data": {
      "text/plain": [
       "'10'"
      ]
     },
     "execution_count": 8,
     "metadata": {},
     "output_type": "execute_result"
    }
   ],
   "source": [
    "list1[0]"
   ]
  },
  {
   "cell_type": "code",
   "execution_count": 12,
   "metadata": {},
   "outputs": [
    {
     "name": "stdout",
     "output_type": "stream",
     "text": [
      "satisfied\n"
     ]
    }
   ],
   "source": [
    "if list1[0]==a:\n",
    "    print('satisfied')\n",
    "else:\n",
    "    print('not satisfied')\n"
   ]
  },
  {
   "cell_type": "code",
   "execution_count": 14,
   "metadata": {},
   "outputs": [
    {
     "data": {
      "text/plain": [
       "\"'data'\""
      ]
     },
     "execution_count": 14,
     "metadata": {},
     "output_type": "execute_result"
    }
   ],
   "source": [
    "list1[4]"
   ]
  },
  {
   "cell_type": "code",
   "execution_count": null,
   "metadata": {},
   "outputs": [],
   "source": []
  },
  {
   "cell_type": "code",
   "execution_count": null,
   "metadata": {},
   "outputs": [],
   "source": []
  },
  {
   "cell_type": "code",
   "execution_count": null,
   "metadata": {},
   "outputs": [],
   "source": []
  },
  {
   "cell_type": "code",
   "execution_count": null,
   "metadata": {},
   "outputs": [],
   "source": []
  },
  {
   "cell_type": "code",
   "execution_count": null,
   "metadata": {},
   "outputs": [],
   "source": []
  },
  {
   "cell_type": "code",
   "execution_count": null,
   "metadata": {},
   "outputs": [],
   "source": []
  }
 ],
 "metadata": {
  "kernelspec": {
   "display_name": "Python 3",
   "language": "python",
   "name": "python3"
  },
  "language_info": {
   "codemirror_mode": {
    "name": "ipython",
    "version": 3
   },
   "file_extension": ".py",
   "mimetype": "text/x-python",
   "name": "python",
   "nbconvert_exporter": "python",
   "pygments_lexer": "ipython3",
   "version": "3.8.5"
  }
 },
 "nbformat": 4,
 "nbformat_minor": 4
}
